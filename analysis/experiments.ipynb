{
 "cells": [
  {
   "cell_type": "code",
   "execution_count": null,
   "metadata": {},
   "outputs": [],
   "source": [
    "import os\n",
    "import numpy as np\n",
    "import matplotlib.pyplot as plt\n",
    "import pandas as pd\n",
    "\n"
   ]
  },
  {
   "cell_type": "code",
   "execution_count": null,
   "metadata": {},
   "outputs": [],
   "source": [
    "gt_dir = \"../data/tests/\"\n",
    "dir_name = gt_dir #+\"output/\"\n",
    "files = os.listdir(dir_name)\n",
    "files = list(sorted(filter(lambda x: x.endswith(\".csv\"), files)))\n",
    "print(files)\n",
    "data = files[-2]\n",
    "\n",
    "df = pd.read_csv(dir_name+\"/\"+data)\n",
    "\n",
    "\n",
    "df = df.drop(columns=[\"Unnamed: 12\"])\n",
    "df"
   ]
  },
  {
   "cell_type": "code",
   "execution_count": null,
   "metadata": {},
   "outputs": [],
   "source": [
    "plt.plot(np.arange(len(df)), df[\"Yaw\"], label=\"yaw\")\n",
    "plt.plot(np.arange(len(df)), (df[\"Actual Yaw\"].to_numpy()), label=\"gtyaw\")"
   ]
  },
  {
   "cell_type": "markdown",
   "metadata": {},
   "source": []
  },
  {
   "cell_type": "code",
   "execution_count": null,
   "metadata": {},
   "outputs": [],
   "source": [
    "fig, axes = plt.subplots(2, 2, figsize=(10, 8))\n",
    "\n",
    "fps = 10\n",
    "period = 1/fps\n",
    "\n",
    "t = np.arange(0, len(df)/fps, period)\n",
    "print(t[-1])\n",
    "\n",
    "axes[0,0].plot(t, df[\"Total Offset X\"], label=\"x\")\n",
    "axes[0,0].plot(t, df[\"Actual X\"], label=\"gt x\")\n",
    "\n",
    "axes[0,1].plot(t, df[\"Total Offset Y\"], label=\"y\")\n",
    "axes[0,1].plot(t, df[\"Actual Y\"], label=\"gt y\")\n",
    "\n",
    "axes[1,0].plot(t, df[\"Roll\"], label=\"roll\")\n",
    "axes[1,0].plot(t, df[\"Actual Roll\"], label=\"gt roll\")\n",
    "\n",
    "axes[1,1].plot(t, df[\"Pitch\"], label=\"pitch\")\n",
    "axes[1,1].plot(t, df[\"Actual Pitch\"], label=\"gt pitch\")\n",
    "\n",
    "axes[0,0].set_title(\"X Offset\")\n",
    "axes[0,1].set_title(\"Y Offset\")\n",
    "axes[1,0].set_title(\"Roll\")\n",
    "axes[1,1].set_title(\"Pitch\")\n",
    "\n",
    "for ax in axes.flat:\n",
    "\n",
    "    ax.legend()\n",
    "    ax.grid()\n",
    "plt.tight_layout()\n",
    "\n",
    "\n",
    "\n"
   ]
  },
  {
   "cell_type": "code",
   "execution_count": null,
   "metadata": {},
   "outputs": [],
   "source": [
    "plt.figure(figsize=(12, 8))\n",
    "\n",
    "plt.plot(df[\"Total Offset X\"], df[\"Total Offset Y\"], label=\"trajectory\")\n",
    "plt.plot(df[\"Actual X\"], df[\"Actual Y\"], label=\"GT trajectory\")\n",
    "\n",
    "plt.plot(df[\"Total Offset X\"].iloc[0], df[\"Total Offset Y\"].iloc[0], \"gP\", label=\"start\", markersize=17)\n",
    "\n",
    "\n",
    "plt.plot(df[\"Total Offset X\"].iloc[-1], df[\"Total Offset Y\"].iloc[-1], \"bs\", label=\"end point\", markersize=17)\n",
    "plt.plot(df[\"Actual X\"].iloc[-1], df[\"Actual Y\"].iloc[-1], \"rs\", label=\"GT end point\", markersize=17)\n",
    "\n",
    "\n",
    "plt.xlabel(\"East origin offset, m\", fontsize=18)\n",
    "plt.ylabel(\"North origin offset, m\", fontsize=18)\n",
    "\n",
    "plt.xticks(np.arange(-0, 21, 2), fontsize=18)\n",
    "plt.yticks(np.arange(30, 101, 20), fontsize=18)\n",
    "\n",
    "plt.legend(loc='upper center', bbox_to_anchor=(0.5, -0.125),\n",
    "          fancybox=True, shadow=True, ncol=5, fontsize=18)\n",
    "plt.grid()\n",
    "# plt.tight_layout()\n",
    "\n",
    "plt.savefig(\"trajectory_kf.pdf\", bbox_inches='tight')"
   ]
  },
  {
   "cell_type": "markdown",
   "metadata": {},
   "source": []
  },
  {
   "cell_type": "code",
   "execution_count": null,
   "metadata": {},
   "outputs": [],
   "source": [
    "l2_err = np.sqrt((df[\"Total Offset X\"] - df[\"Actual X\"])**2 + (df[\"Total Offset Y\"] - df[\"Actual Y\"])**2)\n",
    "plt.figure()\n",
    "plt.plot(t, l2_err, label=\"L2 Error\")\n",
    "plt.title(\"L2 Error\")\n",
    "plt.xlabel(\"Time (s)\")\n",
    "plt.ylabel(\"L2 Error\")\n",
    "plt.legend()\n",
    "plt.grid()\n",
    "plt.tight_layout()\n",
    "plt.show()\n",
    "\n",
    "print(\"L2 Final Error: \", l2_err.iloc[-1])\n",
    "print(\"L2 Mean Error: \", l2_err.mean())"
   ]
  },
  {
   "cell_type": "code",
   "execution_count": null,
   "metadata": {},
   "outputs": [],
   "source": [
    "def ang_err(a, b):\n",
    "    p_a = np.array([np.cos(a), np.sin(a)])\n",
    "    p_b = np.array([np.cos(b), np.sin(b)])\n",
    "    return (np.linalg.norm(p_a - p_b) / 2)*100\n",
    "\n",
    "l2_ang_err_roll = np.zeros(len(df))\n",
    "l2_ang_err_pitch = np.zeros(len(df))\n",
    "for i in range(len(df)):\n",
    "    l2_ang_err_roll[i] = ang_err(df[\"Roll\"][i], -df[\"Actual Roll\"][i])\n",
    "    l2_ang_err_pitch[i] = ang_err(df[\"Pitch\"][i], -df[\"Actual Pitch\"][i])\n",
    "plt.figure()\n",
    "plt.plot(t, l2_ang_err_roll, label=\"L2 Angle Error Percentage\")\n",
    "plt.plot(t, l2_ang_err_pitch, label=\"L2 Angle Error Pitch Percentage\")\n",
    "\n",
    "# plt.title(\"Angle Error\")\n",
    "plt.xlabel(\"Time (s)\")\n",
    "plt.ylabel(\"Angle Error, %\")\n",
    "plt.legend()\n",
    "\n",
    "print(\"L2 Final Angle Error Roll: \", l2_ang_err_roll[-1])\n",
    "print(\"L2 Final Angle Error Pitch: \", l2_ang_err_pitch[-1])\n",
    "print(\"L2 Mean Angle Error Roll: \", l2_ang_err_roll.mean())\n",
    "print(\"L2 Mean Angle Error Pitch: \", l2_ang_err_pitch.mean())\n",
    "\n"
   ]
  },
  {
   "cell_type": "code",
   "execution_count": null,
   "metadata": {},
   "outputs": [],
   "source": [
    "x_gt = df[\"Actual X\"].to_numpy()\n",
    "vel_x = np.diff(x_gt)\n",
    "\n",
    "y_gt = df[\"Actual Y\"].to_numpy()\n",
    "vel_y = np.diff(y_gt)\n",
    "\n",
    "\n",
    "dt = 0.1\n",
    "total_distance = np.cumsum(np.sqrt(vel_x**2 + vel_y**2) )\n",
    "plt.figure()\n",
    "plt.plot(t[1:], total_distance)\n",
    "plt.title(\"Total Distance\")\n",
    "plt.xlabel(\"Time (s)\")\n",
    "plt.ylabel(\"Distance (m)\")\n",
    "plt.grid()\n",
    "plt.show()\n",
    "print(\"Total Distance: \", total_distance[-1])"
   ]
  },
  {
   "cell_type": "code",
   "execution_count": null,
   "metadata": {},
   "outputs": [],
   "source": [
    "avg_vel = total_distance[-1] / t[-1]\n",
    "print(\"Average Velocity: \", avg_vel)\n",
    "\n"
   ]
  },
  {
   "cell_type": "code",
   "execution_count": null,
   "metadata": {},
   "outputs": [],
   "source": [
    "print(max(df[\"Actual Roll\"]))\n",
    "print(max(df[\"Actual Pitch\"]))\n",
    "# print(np.mean(df[\"Altitudee\"]))\n"
   ]
  },
  {
   "cell_type": "code",
   "execution_count": null,
   "metadata": {},
   "outputs": [],
   "source": [
    "fig, axes = plt.subplots(1, 1, figsize=(13, 4))\n",
    "\n",
    "fps = 10\n",
    "period = 1/fps\n",
    "\n",
    "t = np.arange(0, len(df)/fps, period)\n",
    "print(t[-1])\n",
    "\n",
    "\n",
    "\n",
    "axes.plot(t, df[\"Total Offset Y\"], label=\"Estimated Offset\")\n",
    "axes.plot(t, df[\"Actual Y\"], label=\"GT Offset\")\n",
    "\n",
    "axes.set_xlabel(\"Time, s\", fontsize=18)\n",
    "axes.set_ylabel(\"North Offset, m\", fontsize=18)\n",
    "axes.set_xlim(-1, t[-1]+1)\n",
    "axes.set_xticks(np.arange(0, t[-1]+1, 10))\n",
    "axes.grid()\n",
    "\n",
    "plt.xticks(fontsize=16)\n",
    "plt.yticks(fontsize=16)\n",
    "\n",
    "# plt.tight_layout()\n",
    "plt.legend(loc='upper center', bbox_to_anchor=(0.5, -0.175),\n",
    "          fancybox=True, shadow=True, ncol=5, fontsize=18)\n",
    "\n",
    "plt.savefig(\"north1.pdf\", bbox_inches='tight')\n"
   ]
  },
  {
   "cell_type": "code",
   "execution_count": null,
   "metadata": {},
   "outputs": [],
   "source": [
    "fig, axes = plt.subplots(1, 1, figsize=(13, 4))\n",
    "\n",
    "\n",
    "axes.plot(t, df[\"Total Offset X\"], label=\"Estimated Offset\")\n",
    "axes.plot(t, df[\"Actual X\"], label=\"GT Offset\")\n",
    "axes.set_xlim(-1, t[-1]+1)\n",
    "axes.set_xticks(np.arange(0, t[-1]+1, 10))\n",
    "axes.grid()\n",
    "\n",
    "\n",
    "axes.set_xlabel(\"Time, s\", fontsize=18)\n",
    "axes.set_ylabel(\"East Offset, m\", fontsize=18)\n",
    "\n",
    "plt.xticks(fontsize=16)\n",
    "plt.yticks(fontsize=16)\n",
    "\n",
    "# plt.tight_layout()\n",
    "plt.legend(loc='upper center', bbox_to_anchor=(0.5, -0.175),\n",
    "          fancybox=True, shadow=True, ncol=5, fontsize=18)\n",
    "plt.savefig(\"east1.pdf\", bbox_inches='tight')\n"
   ]
  },
  {
   "cell_type": "code",
   "execution_count": null,
   "metadata": {},
   "outputs": [],
   "source": [
    "fig, axes = plt.subplots(1, 1, figsize=(13, 4))\n",
    "\n",
    "\n",
    "axes.plot(t, df[\"Roll\"], label=\"Estimated Roll\")\n",
    "axes.plot(t, df[\"Actual Roll\"], label=\"GT Roll\")\n",
    "axes.set_xlim(-1, t[-1]+1)\n",
    "axes.set_xticks(np.arange(0, t[-1]+1, 5))\n",
    "axes.grid()\n",
    "\n",
    "\n",
    "axes.set_xlabel(\"Time, s\", fontsize=18)\n",
    "axes.set_ylabel(\"Roll, rad\", fontsize=18)\n",
    "\n",
    "plt.xticks(fontsize=16)\n",
    "plt.yticks(fontsize=16)\n",
    "\n",
    "# plt.tight_layout()\n",
    "plt.legend(loc='upper center', bbox_to_anchor=(0.5, -0.175),\n",
    "          fancybox=True, shadow=True, ncol=5, fontsize=18)\n",
    "plt.savefig(\"roll.pdf\", bbox_inches='tight')"
   ]
  },
  {
   "cell_type": "code",
   "execution_count": null,
   "metadata": {},
   "outputs": [],
   "source": []
  }
 ],
 "metadata": {
  "kernelspec": {
   "display_name": ".venv",
   "language": "python",
   "name": "python3"
  },
  "language_info": {
   "codemirror_mode": {
    "name": "ipython",
    "version": 3
   },
   "file_extension": ".py",
   "mimetype": "text/x-python",
   "name": "python",
   "nbconvert_exporter": "python",
   "pygments_lexer": "ipython3",
   "version": "3.10.12"
  }
 },
 "nbformat": 4,
 "nbformat_minor": 2
}
